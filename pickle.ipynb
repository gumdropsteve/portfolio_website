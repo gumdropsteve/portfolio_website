{
 "cells": [
  {
   "cell_type": "code",
   "execution_count": null,
   "metadata": {},
   "outputs": [],
   "source": [
    "'''__init__-esque kernel'''\n",
    "import pandas as pd\n",
    "from sklearn.linear_model import LinearRegression\n",
    "import pickle\n",
    "\n",
    "df = pd.read_csv( 'cars.csv' )\n",
    "X = df[[ 'cylinders' , 'horsepower' , 'weight' ]]\n",
    "target = df.mpg\n",
    "model = LinearRegression()\n",
    "model.fit(X,target)\n",
    "# print(model.coef_)\n",
    "'''[-1.11439132  0.09151962 -0.00850185]'''\n",
    "\n",
    "pickle.dump( model , open( 'linreg.p' , 'wb' ) )"
   ]
  },
  {
   "cell_type": "code",
   "execution_count": 3,
   "metadata": {},
   "outputs": [
    {
     "data": {
      "text/plain": [
       "array([48.25852294])"
      ]
     },
     "execution_count": 3,
     "metadata": {},
     "output_type": "execute_result"
    }
   ],
   "source": [
    "'''seperate kernel'''\n",
    "import pickle\n",
    "model = pickle.load( open( 'linreg.p' , 'rb' ) )\n",
    "# model \n",
    "'''LinearRegression(copy_X=True, fit_intercept=True, n_jobs=None, normalize=False)'''\n",
    "cyl=8\n",
    "horse=300\n",
    "weight=2000\n",
    "model.predict([ [ cyl , horse , weight ] ])"
   ]
  },
  {
   "cell_type": "code",
   "execution_count": null,
   "metadata": {},
   "outputs": [],
   "source": []
  }
 ],
 "metadata": {
  "kernelspec": {
   "display_name": "Python 3",
   "language": "python",
   "name": "python3"
  },
  "language_info": {
   "codemirror_mode": {
    "name": "ipython",
    "version": 3
   },
   "file_extension": ".py",
   "mimetype": "text/x-python",
   "name": "python",
   "nbconvert_exporter": "python",
   "pygments_lexer": "ipython3",
   "version": "3.7.2"
  }
 },
 "nbformat": 4,
 "nbformat_minor": 2
}
